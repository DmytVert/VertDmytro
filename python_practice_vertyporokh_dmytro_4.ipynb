{
  "cells": [
    {
      "cell_type": "markdown",
      "metadata": {
        "id": "-xM96SkgLNxS"
      },
      "source": [
        "# I. Functions. Arguments."
      ]
    },
    {
      "cell_type": "markdown",
      "metadata": {
        "id": "RFkkDC1jikAI"
      },
      "source": [
        "0. (5б) Назвіть 4 частини, з яких складається визначення функції."
      ]
    },
    {
      "cell_type": "code",
      "execution_count": null,
      "metadata": {
        "id": "tV4xxWnFisqZ"
      },
      "outputs": [],
      "source": [
        "def function_name(parameter1, parameter2, ...):\n",
        "    # Тіло функції\n",
        "    # Операції, які виконуються при виклику функції\n",
        "    return результат (якщо необхідно)"
      ]
    },
    {
      "cell_type": "markdown",
      "metadata": {},
      "source": [
        "*1 Ключове слово `def` 2 Ім'я функції 3 Параметри 4 Тіло функції*"
      ]
    },
    {
      "cell_type": "markdown",
      "metadata": {
        "id": "mg6qjOB2LbVs"
      },
      "source": [
        "1. (4б) Визначте функцію, що приймає 2 аргументи та повертає результат ділення 1го аргумента на інший."
      ]
    },
    {
      "cell_type": "code",
      "execution_count": null,
      "metadata": {
        "id": "lUbA_FWjKxQD"
      },
      "outputs": [],
      "source": [
        "def divide_numbers(a, b):\n",
        "    # Перевірка, чи другий аргумент не дорівнює нулю (ділення на нуль недопустиме)\n",
        "    if b != 0:\n",
        "        result = a / b\n",
        "        return result\n",
        "    else:\n",
        "        print(\"Error: Division by zero is not allowed.\")\n",
        "        return None  # Можна також вибрати інший спосіб обробки помилки\n",
        "\n",
        "# Приклад виклику функції\n",
        "num1 = 6\n",
        "num2 = 2\n",
        "\n",
        "result = divide_numbers(num1, num2)\n",
        "\n",
        "if result is not None:\n",
        "    print(f\"The result of {num1} divided by {num2} is: {result}\")"
      ]
    },
    {
      "cell_type": "markdown",
      "metadata": {
        "id": "wMAYj2KXLpiJ"
      },
      "source": [
        "2. (2б) Викличте вище визначену функцію, де другий аргумент дорівнює 0."
      ]
    },
    {
      "cell_type": "code",
      "execution_count": null,
      "metadata": {
        "id": "103jJj32Lo4Y"
      },
      "outputs": [],
      "source": [
        "num1 = 6\n",
        "num2 = 0\n",
        "\n",
        "result = divide_numbers(num1, num2)\n",
        "\n",
        "if result is not None:\n",
        "    print(f\"The result of {num1} divided by {num2} is: {result}\")\n",
        "else:\n",
        "    print(\"The result is not available due to an error.\")"
      ]
    },
    {
      "cell_type": "markdown",
      "metadata": {
        "id": "eT-pwEwPMD3T"
      },
      "source": [
        "3. (6б) Перевизначте функцію так, щоби у випадку ділення на 0 функція повертала None, а в решті випадків - результат розрахунків."
      ]
    },
    {
      "cell_type": "code",
      "execution_count": null,
      "metadata": {
        "id": "1h6Jz7CKMTk_"
      },
      "outputs": [],
      "source": [
        "def divide_numbers(a, b):\n",
        "    # Перевірка, чи другий аргумент не дорівнює нулю (ділення на нуль недопустиме)\n",
        "    if b != 0:\n",
        "        result = a / b\n",
        "        return result\n",
        "    else:\n",
        "        print(\"Error: Division by zero is not allowed.\")\n",
        "        return None\n",
        "\n",
        "# Приклад виклику функції\n",
        "a = 6\n",
        "b = 0\n",
        "\n",
        "result = divide_numbers(a, b)\n",
        "\n",
        "if result is not None:\n",
        "    print(f\"The result of {a} divided by {b} is: {result}\")\n",
        "else:\n",
        "    print(\"The result is not available due to an error.\")"
      ]
    },
    {
      "cell_type": "markdown",
      "metadata": {
        "id": "iuTiofyDMVMG"
      },
      "source": [
        "4. (5б) Напишіть документацію (docstring) у форматі Google до функції, що має обчислювати суму двох чисел."
      ]
    },
    {
      "cell_type": "code",
      "execution_count": null,
      "metadata": {
        "id": "a9E6iU_iNyYQ"
      },
      "outputs": [],
      "source": [
        "def calculate_sum(a, b):\n",
        "    \"\"\"\n",
        "    Обчислює суму двох чисел.\n",
        "\n",
        "    Параметри:\n",
        "    a (int або float): Перше число для додавання.\n",
        "    b (int або float): Друге число для додавання.\n",
        "\n",
        "    Повертає:\n",
        "    int або float: Сума чисел a і b.\n",
        "\n",
        "    Приклад:\n",
        "    >>> calculate_sum(2, 3)\n",
        "    5\n",
        "    >>> calculate_sum(1.5, 2.5)\n",
        "    4.0\n",
        "    \"\"\"\n",
        "    return a + b\n",
        "\n",
        "# Приклад виклику функції\n",
        "result = calculate_sum(2, 3)\n",
        "print(result)  # Виведе: 5"
      ]
    },
    {
      "cell_type": "markdown",
      "metadata": {
        "id": "ZvrsUQZFN5VT"
      },
      "source": [
        "5. (4б) Реалізуйте цю функцію (із додаванням docstring у визначення функції)."
      ]
    },
    {
      "cell_type": "code",
      "execution_count": null,
      "metadata": {
        "id": "K5h3KTVuOBP3"
      },
      "outputs": [],
      "source": [
        "def calculate_sum(a, b):\n",
        "    \"\"\"\n",
        "    Обчислює суму двох чисел.\n",
        "\n",
        "    Параметри:\n",
        "    a (int або float): Перше число для додавання.\n",
        "    b (int або float): Друге число для додавання.\n",
        "\n",
        "    Повертає:\n",
        "    int або float: Сума чисел a і b.\n",
        "\n",
        "    Приклади:\n",
        "    >>> calculate_sum(2, 3)\n",
        "    5\n",
        "    >>> calculate_sum(1.5, 2.5)\n",
        "    4.0\n",
        "    \"\"\"\n",
        "    return a + b\n",
        "\n",
        "# Приклад виклику функції\n",
        "result = calculate_sum(2, 3)\n",
        "print(result)  # Виведе: 5"
      ]
    },
    {
      "cell_type": "markdown",
      "metadata": {
        "id": "IILi2wfYOwYb"
      },
      "source": [
        "6. (6б) Визначте функцію, що віднімає одне число від іншого (підказка: це буде 2 аргументи функції). При чому, якщо не визначити, скільки саме має бути віднято від числа, за замовчуванням має відніматися 1. Викличте функцію, передаючи тільки один аргумент."
      ]
    },
    {
      "cell_type": "code",
      "execution_count": null,
      "metadata": {
        "id": "hybHnk8ROvxQ"
      },
      "outputs": [],
      "source": [
        "def subtract_numbers(a, b=1):\n",
        "    \"\"\"\n",
        "    Віднімає одне число від іншого.\n",
        "\n",
        "    Parameters:\n",
        "        a (int або float): Число, від якого віднімається.\n",
        "        b (int або float, optional): Число, яке віднімається (за замовчуванням 1).\n",
        "\n",
        "    Returns:\n",
        "        int або float: Різниця між числами a і b.\n",
        "\n",
        "    Examples:\n",
        "        >>> subtract_numbers(5, 2)\n",
        "        3\n",
        "        >>> subtract_numbers(10)\n",
        "        9\n",
        "    \"\"\"\n",
        "    return a - b\n",
        "result = subtract_numbers(8)\n",
        "print(result)  # Результат буде 7, оскільки 8 - 1 = 7"
      ]
    },
    {
      "cell_type": "markdown",
      "metadata": {
        "id": "UK6o8zcuR7cH"
      },
      "source": [
        "7. (10б) Визначте функцію, яка приймає iterable (ітерабельний обʼєкт, напр. список), що складається з 7ми рядкових значень - назв погодних умов (напр. \"sunny\") за кожен день у тижні. Повертає функція словник, де ключами є рядки з погодними умовами, а значеннями - кількість разів, скільки дана погода була протягом тижня (напр. {'sunny': 1, ...})."
      ]
    },
    {
      "cell_type": "code",
      "execution_count": null,
      "metadata": {
        "id": "3gkR5gl0SyYO"
      },
      "outputs": [],
      "source": [
        "def count_weather_conditions(weekly_weather):\n",
        "    \"\"\"\n",
        "    Підраховує кількість кожної погодної умови протягом тижня.\n",
        "\n",
        "    Parameters:\n",
        "        weekly_weather (iterable): Ітерабельний об'єкт з назвами погодних умов на кожен день тижня.\n",
        "\n",
        "    Returns:\n",
        "        dict: Словник, де ключами є рядки з погодними умовами, а значеннями - кількість їх появ у тижні.\n",
        "    \"\"\"\n",
        "    weather_count = {}\n",
        "\n",
        "    for condition in weekly_weather:\n",
        "        if condition in weather_count:\n",
        "            weather_count[condition] += 1\n",
        "        else:\n",
        "            weather_count[condition] = 1\n",
        "\n",
        "    return weather_count\n",
        "\n",
        "# Приклад виклику функції\n",
        "weekly_weather_conditions = [\"sunny\", \"rainy\", \"cloudy\", \"sunny\", \"sunny\", \"rainy\", \"cloudy\"]\n",
        "result = count_weather_conditions(weekly_weather_conditions)\n",
        "print(result)"
      ]
    },
    {
      "cell_type": "markdown",
      "metadata": {
        "id": "x4zhem_2Syf7"
      },
      "source": [
        "8. (3б) Викличте цю функцію тричі з різними аргументами та виведіть результати на екран."
      ]
    },
    {
      "cell_type": "code",
      "execution_count": null,
      "metadata": {
        "id": "B0agh7urS0Fc"
      },
      "outputs": [],
      "source": [
        "# Перший виклик з різними погодними умовами\n",
        "weekly_weather_conditions_1 = [\"sunny\", \"rainy\", \"cloudy\", \"sunny\", \"sunny\", \"rainy\", \"cloudy\"]\n",
        "result_1 = count_weather_conditions(weekly_weather_conditions_1)\n",
        "print(\"Результат 1:\", result_1)\n",
        "\n",
        "# Другий виклик з іншими погодними умовами\n",
        "weekly_weather_conditions_2 = [\"cloudy\", \"rainy\", \"sunny\", \"cloudy\", \"rainy\", \"sunny\", \"sunny\"]\n",
        "result_2 = count_weather_conditions(weekly_weather_conditions_2)\n",
        "print(\"Результат 2:\", result_2)\n",
        "\n",
        "# Третій виклик з іншими погодними умовами\n",
        "weekly_weather_conditions_3 = [\"rainy\", \"sunny\", \"sunny\", \"rainy\", \"cloudy\", \"cloudy\", \"sunny\"]\n",
        "result_3 = count_weather_conditions(weekly_weather_conditions_3)\n",
        "print(\"Результат 3:\", result_3)"
      ]
    },
    {
      "cell_type": "markdown",
      "metadata": {
        "id": "bLgviTMlUlNG"
      },
      "source": [
        "9. (15б) Напишіть програму, яка б шукала необхідне число у **впорядкованому** списку цілочислених значень, де\n",
        "\n",
        "\n",
        "1.   число має вводитись з консолі.\n",
        "2.   власне алгоритм пошуку винесений в окрему функцію, яка повертає булеве значення (знайдено число - True, не знайдено - False).\n",
        "3. в залежності від результату функції, виведіть на екран повідомлення про успішний або ж неуспішний пошук.\n",
        "\n",
        "\n",
        "**Зауваження**: використовувати оператор **in** заборонено."
      ]
    },
    {
      "cell_type": "code",
      "execution_count": null,
      "metadata": {
        "id": "LAHz6MmdcWfP"
      },
      "outputs": [],
      "source": []
    },
    {
      "cell_type": "markdown",
      "metadata": {
        "id": "wCKOEiKhLSld"
      },
      "source": [
        "# II. Lambda functions."
      ]
    },
    {
      "cell_type": "markdown",
      "metadata": {
        "id": "c4EBfW6QcXF7"
      },
      "source": [
        "10. (6б) Визначте анонімну функцію, що виконувала б завдання з задачі №1."
      ]
    },
    {
      "cell_type": "code",
      "execution_count": null,
      "metadata": {
        "id": "sGgO6KjuhUj5"
      },
      "outputs": [],
      "source": [
        "# Анонімна функція, яка обчислює суму двох чисел\n",
        "calculate_sum = lambda a, b: a + b\n",
        "\n",
        "# Приклад виклику анонімної функції\n",
        "result = calculate_sum(6, 2)\n",
        "print(result)  # Виведе: 8"
      ]
    },
    {
      "cell_type": "markdown",
      "metadata": {
        "id": "fWa0efmRhepO"
      },
      "source": [
        "11. (5б) В яких випадках варто використовувати лямбда-функції?"
      ]
    },
    {
      "cell_type": "markdown",
      "metadata": {
        "id": "R68BViaPhad_"
      },
      "source": [
        "*Короткі функції для обробки даних, використання як аргументів у функціях вищих порядків, сallback-функції, лаконічність коду*"
      ]
    },
    {
      "cell_type": "markdown",
      "metadata": {
        "id": "0CL6ikIkhU7j"
      },
      "source": [
        "12. (9б) Визначте список з рядками. Після цього визначте анонімну функцію для отримання першого символу у верхньому регістрі для кожного рядка списку.\n",
        "*Підказка*: використовуйте анонімну функцію в якості агрумента до вбудованої ф-ції, яка створена для застосування функцій над iterable обʼєктами.\n",
        "Результат виведіть на екран у вигляді кортежу."
      ]
    },
    {
      "cell_type": "code",
      "execution_count": null,
      "metadata": {
        "id": "I1Lw2SSNhhJw"
      },
      "outputs": [],
      "source": [
        "# Визначення списку рядків\n",
        "string_list = [\"Dima\", \"Vertyporokh\", \"Kyiv\", \"Mars\", \"Bounty\"]\n",
        "\n",
        "# Анонімна функція для отримання першого символу у верхньому регістрі\n",
        "get_first_char_upper = lambda s: s[0].upper()\n",
        "\n",
        "# Використання анонімної функції з функцією map()\n",
        "result_tuple = tuple(map(get_first_char_upper, string_list))\n",
        "\n",
        "# Виведення результату на екран у вигляді кортежу\n",
        "print(result_tuple)"
      ]
    },
    {
      "cell_type": "markdown",
      "metadata": {
        "id": "rgGmGt67m5yi"
      },
      "source": [
        "# III. Decorators."
      ]
    },
    {
      "cell_type": "markdown",
      "metadata": {
        "id": "DZm1W0Qqncu8"
      },
      "source": [
        "13. (15б) Визначте декоратор, який би виводив у консоль повідомлення про початок роботи і назву функції, а після відпрацювання функції - повідомлення про закінчення роботи і назву функції, що задекорована."
      ]
    },
    {
      "cell_type": "code",
      "execution_count": null,
      "metadata": {
        "id": "5s3X3F6soer0"
      },
      "outputs": [],
      "source": [
        "def my_decorator(func):\n",
        "    def wrapper(*args, **kwargs):\n",
        "        print(f\"Початок роботи функції {func.__name__}\")\n",
        "        result = func(*args, **kwargs)\n",
        "        print(f\"Закінчення роботи функції {func.__name__}\")\n",
        "        return result\n",
        "    return wrapper\n",
        "\n",
        "# Використання декоратора\n",
        "@my_decorator\n",
        "def example_function():\n",
        "    print(\"Виконання основної функції.\")\n",
        "\n",
        "# Виклик функції, яка має декоратор\n",
        "example_function()"
      ]
    },
    {
      "cell_type": "markdown",
      "metadata": {
        "id": "AlGt40oVofHB"
      },
      "source": [
        "14. (7б) Задекоруйте функції з завдання 3, 5 та 6 декоратором із завдання 13. *Примітка*: продемонструйте 2 способи, як можна задекорувати функції (**УВАГА**: не декоруйте функції двічі!)."
      ]
    },
    {
      "cell_type": "code",
      "execution_count": null,
      "metadata": {
        "id": "hkxhoRVqo1AW"
      },
      "outputs": [],
      "source": [
        "def my_decorator(func):\n",
        "    def wrapper(*args, **kwargs):\n",
        "        print(f\"Початок роботи функції {func.__name__}\")\n",
        "        result = func(*args, **kwargs)\n",
        "        print(f\"Закінчення роботи функції {func.__name__}\")\n",
        "        return result\n",
        "    return wrapper\n",
        "# Декоруємо функцію з завдання 3\n",
        "@my_decorator\n",
        "def divide_numbers(a, b):\n",
        "    \"\"\"\n",
        "    Ділить одне число на інше.\n",
        "\n",
        "    Parameters:\n",
        "        a (int або float): Дільник.\n",
        "        b (int або float): Дільник.\n",
        "\n",
        "    Returns:\n",
        "        int або float або None: Результат ділення або None, якщо b = 0.\n",
        "    \"\"\"\n",
        "    if b == 0:\n",
        "        return None\n",
        "    return a / b\n",
        "\n",
        "# Декоруємо функцію з завдання 5\n",
        "@my_decorator\n",
        "def count_weather_conditions(weekly_weather):\n",
        "    \"\"\"\n",
        "    Підраховує кількість кожної погодної умови протягом тижня.\n",
        "\n",
        "    Parameters:\n",
        "        weekly_weather (iterable): Ітерабельний об'єкт з назвами погодних умов на кожен день тижня.\n",
        "\n",
        "    Returns:\n",
        "        dict: Словник, де ключами є рядки з погодними умовами, а значеннями - кількість їх появ у тижні.\n",
        "    \"\"\"\n",
        "    weather_count = {}\n",
        "\n",
        "    for condition in weekly_weather:\n",
        "        if condition in weather_count:\n",
        "            weather_count[condition] += 3\n",
        "        else:\n",
        "            weather_count[condition] = 2\n",
        "\n",
        "    return weather_count\n",
        "\n",
        "# Декоруємо функцію з завдання 6\n",
        "@my_decorator\n",
        "def subtract_numbers(a, b=1):\n",
        "    \"\"\"\n",
        "    Віднімає одне число від іншого.\n",
        "\n",
        "    Parameters:\n",
        "        a (int або float): Число, від якого віднімається.\n",
        "        b (int або float, optional): Число, яке віднімається (за замовчуванням 1).\n",
        "\n",
        "    Returns:\n",
        "        int або float: Різниця між числами a і b.\n",
        "    \"\"\"\n",
        "    return a - b\n",
        "    # Виклик задекорованих функцій\n",
        "result_divide = divide_numbers(6, 2)\n",
        "print(f\"Результат ділення: {result_divide}\")\n",
        "\n",
        "result_count_weather = count_weather_conditions([\"sunny\", \"rainy\", \"cloudy\"])\n",
        "print(f\"Результат підрахунку погоди: {result_count_weather}\")\n",
        "\n",
        "result_subtract = subtract_numbers(8)\n",
        "print(f\"Результат віднімання: {result_subtract}\")"
      ]
    },
    {
      "cell_type": "markdown",
      "metadata": {
        "id": "6QkS0Kxzo4UR"
      },
      "source": [
        "15. (2б) Викличте одну з задекорованих функцій і виведіть її результат на екран."
      ]
    },
    {
      "cell_type": "code",
      "execution_count": null,
      "metadata": {
        "id": "BCCCPai6o-y5"
      },
      "outputs": [],
      "source": [
        "# Виклик задекорованої функції divide_numbers\n",
        "result_divide = divide_numbers(6, 2)\n",
        "print(f\"Результат ділення: {result_divide}\")"
      ]
    },
    {
      "cell_type": "markdown",
      "metadata": {
        "id": "CSN0Q5pMQVNQ"
      },
      "source": [
        "# Вітаю! Ви велика(ий) молодець, що впоралась(вся). Похваліть себе та побалуйте чимось приємним. Я Вами пишаюся."
      ]
    }
  ],
  "metadata": {
    "colab": {
      "provenance": []
    },
    "kernelspec": {
      "display_name": "Python 3",
      "name": "python3"
    },
    "language_info": {
      "name": "python"
    }
  },
  "nbformat": 4,
  "nbformat_minor": 0
}
