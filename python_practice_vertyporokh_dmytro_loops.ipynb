{
  "cells": [
    {
      "cell_type": "markdown",
      "metadata": {
        "id": "bhnw_OBiped2"
      },
      "source": [
        "# I. range."
      ]
    },
    {
      "cell_type": "markdown",
      "metadata": {
        "id": "cS4sWGwctkLH"
      },
      "source": [
        "1. (4 бали) Створіть обʼєкт типу range, який буде містити послідовність цілих чисел від 0 до 9 включно. Виведіть його довжину (кількість значень)."
      ]
    },
    {
      "cell_type": "code",
      "execution_count": null,
      "metadata": {
        "id": "1XFhN5gVte4X"
      },
      "outputs": [],
      "source": [
        "# Створення об'єкта типу range від 0 до 9 включно\n",
        "my_range = range(10)\n",
        "\n",
        "# Виведення довжини об'єкта range\n",
        "print(\"Довжина об'єкта range:\", len(my_range))"
      ]
    },
    {
      "cell_type": "markdown",
      "metadata": {
        "id": "VZ0Dh0m-t9tM"
      },
      "source": [
        "2. (5 балів) Створіть обʼєкт типу range, який буде містити послідовність цілих чисел (16, 13, 10, 7, 4, 1, -2, -5)"
      ]
    },
    {
      "cell_type": "code",
      "execution_count": null,
      "metadata": {
        "id": "YavF1Agaoe8J"
      },
      "outputs": [],
      "source": [
        "# Створення об'єкта типу range з послідовністю чисел (16, 13, 10, 7, 4, 1, -2, -5)\n",
        "my_range = range(16, -6, -3)\n",
        "\n",
        "# Виведення елементів об'єкта range\n",
        "print(list(my_range))"
      ]
    },
    {
      "cell_type": "markdown",
      "metadata": {
        "id": "nBmE3_nMuavj"
      },
      "source": [
        "3. (4 бали) Створіть змінну зі значенням цілого типу. Перевірте, чи вона належить проміжку від 49 до 100 включно. Як ви гадаєте, для чого використовуються range?"
      ]
    },
    {
      "cell_type": "code",
      "execution_count": null,
      "metadata": {
        "id": "5KmgBmOIuku4"
      },
      "outputs": [],
      "source": [
        "# Створення змінної зі значенням цілого типу\n",
        "my_number = 61  # Замініть це значенням вашого вибору\n",
        "\n",
        "# Перевірка, чи змінна належить проміжку від 49 до 100 включно\n",
        "if my_number in range(49, 101):\n",
        "    print(f\"{my_number} належить проміжку від 49 до 100 включно.\")\n",
        "else:\n",
        "    print(f\"{my_number} не належить проміжку від 49 до 100 включно.\")"
      ]
    },
    {
      "cell_type": "markdown",
      "metadata": {
        "id": "hZHtKQUJxDxj"
      },
      "source": [
        "*Функція range використовується для створення послідовностей чисел та зручна для перевірки, чи змінна належить певному проміжку.*"
      ]
    },
    {
      "cell_type": "markdown",
      "metadata": {
        "id": "56FjMkPatTD6"
      },
      "source": [
        "# II. Comprehensions."
      ]
    },
    {
      "cell_type": "markdown",
      "metadata": {
        "id": "AZyfyNfYvOyq"
      },
      "source": [
        "4. (6 балів) Створіть множину (set), використовуючи range та set comprehension."
      ]
    },
    {
      "cell_type": "code",
      "execution_count": null,
      "metadata": {
        "id": "DE8oNYSUvNfR"
      },
      "outputs": [],
      "source": [
        "# Створення множини чисел від 0 до 9 за допомогою set comprehension\n",
        "my_set = {x for x in range(10)}\n",
        "\n",
        "# Виведення множини\n",
        "print(my_set)"
      ]
    },
    {
      "cell_type": "markdown",
      "metadata": {
        "id": "5IsyYnolvWxJ"
      },
      "source": [
        "5. (8 балів) Створіть словник, використовуючи dict comprehension, що містить if else. Коли слід використовувати comprehensions, а коли їх слід уникати?"
      ]
    },
    {
      "cell_type": "code",
      "execution_count": null,
      "metadata": {
        "id": "PTLiarj4vWVu"
      },
      "outputs": [],
      "source": [
        "# Створення словника, де ключі - це числа від 0 до 9, а значення - 'even' або 'odd'\n",
        "my_dict = {x: 'even' if x % 2 == 0 else 'odd' for x in range(10)}\n",
        "\n",
        "# Виведення словника\n",
        "print(my_dict)"
      ]
    },
    {
      "cell_type": "markdown",
      "metadata": {
        "id": "PcwgYcjdxYPA"
      },
      "source": [
        "*Використання comprehensions, коли: скоротити код, покращити читабельність, ефективність. Уникайте comprehensions, коли: ситуації, коли потрібні побічні ефекти, складні умови.*"
      ]
    },
    {
      "cell_type": "markdown",
      "metadata": {
        "id": "xPVEDwk6vfhU"
      },
      "source": [
        "6. (7 балів) Створіть список з рядками та запишіть його у змінну. Створіть ще один список на основі попереднього, де кожен рядок буде містити тільки три перших заглавних символи. Наприклад: ['hello', 'i', 'dont', 'care'] -> ['HEL', 'I', 'DON', 'CAR']"
      ]
    },
    {
      "cell_type": "code",
      "execution_count": null,
      "metadata": {
        "id": "l1FAM69Owi7q"
      },
      "outputs": [],
      "source": [
        "# Створення початкового списку з рядками\n",
        "original_list = ['hello', 'i', 'dont', 'care']\n",
        "\n",
        "# Створення нового списку, де кожен рядок містить тільки три перші заголовні символи\n",
        "modified_list = [s[:3].upper() for s in original_list]\n",
        "\n",
        "# Виведення обох списків\n",
        "print(\"Початковий список:\", original_list)\n",
        "print(\"Змінений список:\", modified_list)"
      ]
    },
    {
      "cell_type": "markdown",
      "metadata": {
        "id": "9zEB8ekEtTnQ"
      },
      "source": [
        "# III. Цикли."
      ]
    },
    {
      "cell_type": "markdown",
      "metadata": {
        "id": "AlEfFe4Fwv8n"
      },
      "source": [
        "7. (6 балів) Продемонструйте роботу циклу while. Чи можна використовувати в умові циклу булеві значення? Чому?"
      ]
    },
    {
      "cell_type": "code",
      "execution_count": null,
      "metadata": {
        "id": "kiDSbqo0wwMZ"
      },
      "outputs": [],
      "source": [
        "# Ініціалізація змінної\n",
        "counter = 0\n",
        "\n",
        "# Цикл буде виконуватись, доки значення змінної counter менше 5\n",
        "while counter < 5:\n",
        "    print(f\"Поточне значення counter: {counter}\")\n",
        "    counter += 1  # Збільшуємо значення counter на 1 кожною ітерацією\n",
        "\n",
        "print(\"Цикл завершено.\")"
      ]
    },
    {
      "cell_type": "markdown",
      "metadata": {
        "id": "J9TkD5_Cx3I1"
      },
      "source": [
        "8. (8 балів) Напишіть програму, яка виведе на екран непарні числа в діапазоні від 0 до 20 включно."
      ]
    },
    {
      "cell_type": "code",
      "execution_count": null,
      "metadata": {
        "id": "5A1d-qvVx34B"
      },
      "outputs": [],
      "source": [
        "# Ітерація від 0 до 20 включно\n",
        "for number in range(21):\n",
        "    # Перевірка, чи число непарне\n",
        "    if number % 2 != 0:\n",
        "        print(number)"
      ]
    },
    {
      "cell_type": "markdown",
      "metadata": {
        "id": "xN6Kfmqex4NU"
      },
      "source": [
        "9. (7 балів) Створіть список з елементами булевого типу або None. Використовуючи цикли, отримайте в результаті список з кортежами, де перший елемент кортежу - індекс(ціле число), а другий елемент - відповідне значення з першого списку.\n",
        "\n",
        "Наприклад, [True, True, None, False] -> [(0, True), (1, True), (2, None), (3, False)]"
      ]
    },
    {
      "cell_type": "code",
      "execution_count": null,
      "metadata": {
        "id": "YhVlQnNIx405"
      },
      "outputs": [],
      "source": [
        "# Початковий список з елементами булевого типу або None\n",
        "original_list = [True, True, None, False]\n",
        "\n",
        "# Створення списку з кортежами за допомогою циклу\n",
        "result_list = [(index, value) for index, value in enumerate(original_list)]\n",
        "\n",
        "# Виведення результату на екран\n",
        "print(result_list)"
      ]
    },
    {
      "cell_type": "markdown",
      "metadata": {
        "id": "cJNlWxHLx5mW"
      },
      "source": [
        "10. (10 балів) Створіть словник, де ключі - назви книжок, а значення - їхня кількість у наявності в Вашій міні-бібліотеці. Бібліотека має містити щонайменше 6 книжок (6 пар значень у словнику) і щонайбільше 10 (пар значень). Використовуючи цикли, оновіть словник (не створюйте новий) так, щоби кількість книг у наявності збільшилося на 5 кожної книги. Наприклад,\n",
        "{'It': 3, 'Fault stars': 10, 'Bible': 17, 'Psychological romance': 4, 'Harry Potter': 13} -> {'It': 8, 'Fault stars': 15, 'Bible': 22, 'Psychological romance': 9, 'Harry Potter': 18}"
      ]
    },
    {
      "cell_type": "code",
      "execution_count": null,
      "metadata": {
        "id": "pI7I71ao0qh_"
      },
      "outputs": [],
      "source": [
        "# Початковий словник з кількістю книг у наявності\n",
        "library = {\n",
        "    'It': 3,\n",
        "    'Fault stars': 10,\n",
        "    'Bible': 17,\n",
        "    'Psychological romance': 4,\n",
        "    'Harry Potter': 13,\n",
        "    'I Have No Mouth, and I Must Scream': 2\n",
        "    # Додайте ще книги за необхідності\n",
        "}\n",
        "\n",
        "# Виведення початкового словника\n",
        "print(\"Початковий словник:\")\n",
        "print(library)\n",
        "\n",
        "# Оновлення кількості книг у наявності за допомогою циклу\n",
        "for book in library:\n",
        "    library[book] += 5\n",
        "\n",
        "# Виведення оновленого словника\n",
        "print(\"\\nОновлений словник:\")\n",
        "print(library)"
      ]
    },
    {
      "cell_type": "markdown",
      "metadata": {
        "id": "qdZA6qi82GBa"
      },
      "source": [
        "11. (15 балів) Визначте цілочислену змінну n, що належить проміжку від 4 до 10 включно. Використовуючи цикли, виведіть в консоль наступний патерн.\n",
        "\n",
        "#\n",
        "##\n",
        "###\n",
        "####\n",
        "\n",
        "... #*n\n"
      ]
    },
    {
      "cell_type": "code",
      "execution_count": null,
      "metadata": {
        "id": "aaHuUQHfx6YO"
      },
      "outputs": [],
      "source": [
        "# Цілочислена змінна n\n",
        "n = 6  # Замініть на бажане значення від 4 до 10\n",
        "\n",
        "# Патерн за допомогою циклів\n",
        "for i in range(1, n + 1):\n",
        "    print(\"#\" * i)"
      ]
    },
    {
      "cell_type": "markdown",
      "metadata": {
        "id": "XOniyaun74Ed"
      },
      "source": [
        "12. (20 балів) Гра \"Нумо вгадай\".\n",
        "Розробіть просту гру, де користувач має вгадати випадкове число від 1 до 100. Для генерації випадкового числа використовуйте функцію random.randint(a, b) (тут a та b включно). Для отримання числа з консолі використовуйте функцію input(), результат якої обовʼязково явно приведіть до типу int.\n",
        "\n",
        "Підказка: використовуйте цикл while та умови if-else, щоб повідомити користувачу піказки (напр. \"Більше\", \"Менше\") поки користувач не вгадає. По завершенню виведіть кількість спроб, які знадобилися для вгадування.\n"
      ]
    },
    {
      "cell_type": "code",
      "execution_count": null,
      "metadata": {
        "id": "iomCeUuW73NG"
      },
      "outputs": [],
      "source": [
        "import random\n",
        "\n",
        "secret_number = random.randint(1, 100)\n",
        "attempts = 0\n",
        "\n",
        "while True:\n",
        "    guess_str = input(\"Вгадайте число від 1 до 100: \")\n",
        "\n",
        "    try:\n",
        "        guess = int(guess_str)\n",
        "    except ValueError:\n",
        "        print(\"Будь ласка, введіть коректне ціле число.\")\n",
        "        continue\n",
        "\n",
        "    attempts += 1\n",
        "\n",
        "    if guess == secret_number:\n",
        "        print(f\"Вітаємо! Ви вгадали число {secret_number} за {attempts} спроб.\")\n",
        "        break\n",
        "    elif guess < secret_number:\n",
        "        print(\"Більше.\")\n",
        "    else:\n",
        "        print(\"Менше.\")\n"
      ]
    },
    {
      "cell_type": "markdown",
      "metadata": {
        "id": "jTs-rqOptY2R"
      },
      "source": [
        "# Вітаю! Ви велика(ий) молодець, що впоралась(вся). Похваліть себе та побалуйте чимось приємним. Я Вами пишаюся."
      ]
    }
  ],
  "metadata": {
    "colab": {
      "provenance": []
    },
    "kernelspec": {
      "display_name": "Python 3",
      "name": "python3"
    },
    "language_info": {
      "name": "python"
    }
  },
  "nbformat": 4,
  "nbformat_minor": 0
}
