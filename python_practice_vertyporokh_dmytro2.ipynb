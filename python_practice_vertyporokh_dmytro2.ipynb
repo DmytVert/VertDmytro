{
  "cells": [
    {
      "cell_type": "markdown",
      "metadata": {
        "id": "EVJ7AflwxrZi"
      },
      "source": [
        "# I. Рядки (String)."
      ]
    },
    {
      "cell_type": "markdown",
      "metadata": {
        "id": "_s5ECzz9zE61"
      },
      "source": [
        "1. Створити пустий рядок двома різними способами."
      ]
    },
    {
      "cell_type": "code",
      "execution_count": null,
      "metadata": {
        "id": "HsDOUUMWxo6D"
      },
      "outputs": [],
      "source": [
        "empty_string_1 = \"\"\n",
        "print(empty_string_1)\n",
        "\n",
        "empty_string_2 = str()\n",
        "print(empty_string_2)"
      ]
    },
    {
      "cell_type": "markdown",
      "metadata": {
        "id": "4Bdn9J3MzLf_"
      },
      "source": [
        "2. Створити рядок з апострофом."
      ]
    },
    {
      "cell_type": "code",
      "execution_count": null,
      "metadata": {
        "id": "OjyFU0iKzPc2"
      },
      "outputs": [],
      "source": [
        "string_with_apostrophe = \"Це рядок з апострофом: '\"\n",
        "print(string_with_apostrophe)"
      ]
    },
    {
      "cell_type": "markdown",
      "metadata": {
        "id": "qj7LjXFazbx1"
      },
      "source": [
        "3. Створити рядок з символом переходу на новий рядок та роздрукувати його в консоль."
      ]
    },
    {
      "cell_type": "code",
      "execution_count": null,
      "metadata": {
        "id": "K9J-tLXczmyo"
      },
      "outputs": [],
      "source": [
        "\n",
        "multiline_string = \"Це рядок з символом переходу на новий рядок.\\nТепер новий рядок продовжується тут.\"\n",
        "\n",
        "print(multiline_string)"
      ]
    },
    {
      "cell_type": "markdown",
      "metadata": {
        "id": "XEYGh-BGzzfD"
      },
      "source": [
        "4. Зробити рядок з завдання №3 \"сирим\"(raw), вивести в консоль та порівняти з результатом в попередному завданні."
      ]
    },
    {
      "cell_type": "code",
      "execution_count": null,
      "metadata": {
        "id": "0Mb7qYqgzntd"
      },
      "outputs": [],
      "source": [
        "raw_multiline_string = r\"Це рядок з символом переходу на новий рядок.\\nТепер новий рядок продовжується тут.\"\n",
        "\n",
        "# Виведення \"сирого\" рядка в консоль\n",
        "print(raw_multiline_string)"
      ]
    },
    {
      "cell_type": "markdown",
      "metadata": {
        "id": "xLM76Cnfz3T_"
      },
      "source": [
        "*В \"сирому\" рядку символ \\n буде сприйматися як саме два символи - \\ та n, а не як символ переходу на новий рядок.*"
      ]
    },
    {
      "cell_type": "markdown",
      "metadata": {
        "id": "bg_d8wM4z8dS"
      },
      "source": [
        "5. Створити змінну, що буде посилатися на Ваше прізвище латинкою. Створити форматований рядок, який буде мати вигляд \"My surname is ______\", де на місці нижніх підкреслень буде Ваше прізвище зі змінної."
      ]
    },
    {
      "cell_type": "code",
      "execution_count": null,
      "metadata": {
        "id": "Cr847KKpz7zF"
      },
      "outputs": [],
      "source": [
        "# Змінна з прізвищем\n",
        "my_surname = \"Vertyporokh\"\n",
        "\n",
        "# Форматований рядок\n",
        "formatted_string = f\"My surname is {my_surname}\"\n",
        "\n",
        "# Виведення результату\n",
        "print(formatted_string)"
      ]
    },
    {
      "cell_type": "markdown",
      "metadata": {
        "id": "1Nc6RqvQ0hxU"
      },
      "source": [
        "6. Маючи рядок \"My dog is crazy.\" перетворити його на список [\"my\", \"dog\", \"is\", \"crazy\"]"
      ]
    },
    {
      "cell_type": "code",
      "execution_count": null,
      "metadata": {
        "id": "dGU4MImR063l"
      },
      "outputs": [],
      "source": [
        "original_string = \"My dog is crazy.\"\n",
        "word_list = original_string.split()\n",
        "\n",
        "print(word_list)"
      ]
    },
    {
      "cell_type": "markdown",
      "metadata": {
        "id": "rW_I9dt3x6cW"
      },
      "source": [
        "# II. Множини (Set)."
      ]
    },
    {
      "cell_type": "markdown",
      "metadata": {
        "id": "zNjRLHLw1Bgg"
      },
      "source": [
        "7. Створити множину без елементів. Після цого за допомогою методу додайте кілька різних елементів до множини. Чи множини є змінним типом даних?"
      ]
    },
    {
      "cell_type": "code",
      "execution_count": null,
      "metadata": {
        "id": "CB72VZWZ1A7c"
      },
      "outputs": [],
      "source": [
        "# Створення пустої множини\n",
        "my_set = set()\n",
        "\n",
        "# Додавання елементів до множини\n",
        "my_set.add(1)\n",
        "my_set.add('dima')\n",
        "my_set.add(3.14)\n",
        "\n",
        "# Виведення множини\n",
        "print(\"Моя множина:\", my_set)"
      ]
    },
    {
      "cell_type": "markdown",
      "metadata": {
        "id": "tqxtcfgK4Wkx"
      },
      "source": [
        "*Так, множина в Python є змінним типом даних, оскільки ви можете додавати та видаляти елементи після створення множини.*"
      ]
    },
    {
      "cell_type": "markdown",
      "metadata": {
        "id": "gHpT0Zw_1HEF"
      },
      "source": [
        "8. Створити множину, маючи список my_list = [1, 1, 2, 67, 67, 8, 9]. Пояснити, чому \"зникли\" деякі елементи."
      ]
    },
    {
      "cell_type": "code",
      "execution_count": null,
      "metadata": {
        "id": "U5YnFsPp1OCU"
      },
      "outputs": [],
      "source": [
        "my_list = [1, 1, 2, 67, 67, 8, 9]\n",
        "\n",
        "# Створення множини зі списку\n",
        "my_set = set(my_list)\n",
        "\n",
        "# Виведення множини\n",
        "print(\"Множина зі списку:\", my_set)"
      ]
    },
    {
      "cell_type": "markdown",
      "metadata": {},
      "source": [
        "*однакові значення не можуть зустрічатися більше одного разу в множині. Тому дубльовані елементи зі списку my_list будуть видалені, і тільки унікальні значення залишаться в множині.*"
      ]
    },
    {
      "cell_type": "markdown",
      "metadata": {
        "id": "SRMkGizS1UwY"
      },
      "source": [
        "9. Створіть дві множини. Продемонстуйте над ними операції: обʼєднання, різниці, пересічі та симетричної різниці. Використовуйте методи, що не змінюють множини, а створюють нові."
      ]
    },
    {
      "cell_type": "code",
      "execution_count": null,
      "metadata": {
        "id": "pj5ta1CS2LAa"
      },
      "outputs": [],
      "source": [
        "# Створення двох множин\n",
        "set1 = {1, 2, 3, 4, 5}\n",
        "set2 = {3, 4, 5, 6, 7}\n",
        "\n",
        "# Обʼєднання множин\n",
        "union_set = set1.union(set2)\n",
        "print(\"Обʼєднання множин:\", union_set)\n",
        "\n",
        "# Різниця множин (елементи, які є в першій, але не в другій множині)\n",
        "difference_set = set1.difference(set2)\n",
        "print(\"Різниця множин (перша множина без спільних елементів):\", difference_set)\n",
        "\n",
        "# Пересічення множин\n",
        "intersection_set = set1.intersection(set2)\n",
        "print(\"Пересічення множин:\", intersection_set)\n",
        "\n",
        "# Симетрична різниця множин (елементи, які є тільки в одній з множин)\n",
        "symmetric_difference_set = set1.symmetric_difference(set2)\n",
        "print(\"Симетрична різниця множин:\", symmetric_difference_set)"
      ]
    },
    {
      "cell_type": "markdown",
      "metadata": {
        "id": "ECo4rGAW2e4S"
      },
      "source": [
        "10. Створіть множину з пʼяти елементів. За допомогою спеціального методу, вилучіть три елементи один за одним з множини. Чи може гарантуватися порядок елементів у множинах?"
      ]
    },
    {
      "cell_type": "code",
      "execution_count": null,
      "metadata": {
        "id": "tCoJigA-4Ryd"
      },
      "outputs": [],
      "source": [
        "# Створення множини\n",
        "my_set = {1, 2, 3, 4, 5}\n",
        "\n",
        "# Виведення початкової множини\n",
        "print(\"Початкова множина:\", my_set)\n",
        "\n",
        "# Вилучення елементів\n",
        "my_set.pop()\n",
        "my_set.pop()\n",
        "my_set.pop()\n",
        "\n",
        "# Виведення множини після вилучення\n",
        "print(\"Множина після вилучення трьох елементів:\", my_set)"
      ]
    },
    {
      "cell_type": "markdown",
      "metadata": {
        "id": "t7f5oKmP2qum"
      },
      "source": [
        "*Множини в Python не зберігають порядок елементів, тобто немає гарантії, що елементи будуть вилучатися в тому самому порядку, в якому вони були додані.*"
      ]
    },
    {
      "cell_type": "markdown",
      "metadata": {
        "id": "kWc8gkzTx7Ea"
      },
      "source": [
        "# III. Словники (Dictionary)."
      ]
    },
    {
      "cell_type": "markdown",
      "metadata": {
        "id": "FHIRdwck2uji"
      },
      "source": [
        "11. Створіть пустий словник двома способами."
      ]
    },
    {
      "cell_type": "code",
      "execution_count": null,
      "metadata": {
        "id": "sF2WCzwJ2yDq"
      },
      "outputs": [],
      "source": [
        "empty_dict1 = {}\n",
        "print(empty_dict1)\n",
        "\n",
        "empty_dict2 = dict()\n",
        "print(empty_dict1)"
      ]
    },
    {
      "cell_type": "markdown",
      "metadata": {
        "id": "i5FLwj-B2ybQ"
      },
      "source": [
        "12. До одного зі словників вище додайте чотири пари елементів такі, щоб їхні ключі були різних типів."
      ]
    },
    {
      "cell_type": "code",
      "execution_count": null,
      "metadata": {
        "id": "lqunD0EZ2_Vg"
      },
      "outputs": [],
      "source": [
        "my_dict = {}\n",
        "\n",
        "# Додавання елементів до словника\n",
        "my_dict[\"name\"] = \"Dima\"\n",
        "my_dict[20] = \"age\"\n",
        "my_dict[170.3] = \"high\"\n",
        "my_dict[(\"a\", \"b\")] = \"key\"\n",
        "\n",
        "# Виведення зміненого словника\n",
        "print(\"Змінений словник:\", my_dict)"
      ]
    },
    {
      "cell_type": "markdown",
      "metadata": {
        "id": "XOD2Aaj13Bqx"
      },
      "source": [
        "*У Python списки не можуть бути ключами в словнику, але вони можуть бути значеннями. Це пов'язано з тим, що ключі словника повинні бути не змінними об'єктами (immutable). Списки є змінними об'єктами, оскільки їх можна змінювати (додавати, вилучати елементи) після створення.*"
      ]
    },
    {
      "cell_type": "markdown",
      "metadata": {
        "id": "9Tjhmuf73KE6"
      },
      "source": [
        "13. Використовуючи той самий словник, отримайте по ключу будь-яке значення з наявних. Тепер видаліть цю пару ключ-значення. Спробуйте знову отримати значення по цьому ж ключу. Використовуючи спеціальний метод, виправте помилку."
      ]
    },
    {
      "cell_type": "code",
      "execution_count": null,
      "metadata": {
        "id": "cNMenuGQ3JMa"
      },
      "outputs": [],
      "source": [
        "# Створення словника\n",
        "my_dict = {\"name\": \"Dima\", \"age\": 20, \"170.3\": \"high\"}\n",
        "\n",
        "# Отримання значення по ключу\n",
        "value = my_dict[\"age\"]\n",
        "print(\"Значення по ключу 'age':\", value)\n",
        "\n",
        "# Видалення пари ключ-значення\n",
        "del my_dict[\"age\"]\n",
        "\n",
        "# Спроба отримати значення після видалення\n",
        "# Це призведе до помилки KeyError\n",
        "# value_after_deletion = my_dict[\"age\"]\n",
        "\n",
        "# Виправлення помилки за допомогою методу get()\n",
        "value_after_deletion = my_dict.get(\"age\", \"Key not found\")\n",
        "print(\"Значення по ключу 'age' після видалення:\", value_after_deletion)"
      ]
    },
    {
      "cell_type": "markdown",
      "metadata": {
        "id": "SLtQabwUx7Xc"
      },
      "source": [
        "# IV. Оператори порівняння та логічні оператори. Умови."
      ]
    },
    {
      "cell_type": "markdown",
      "metadata": {
        "id": "SrehzC-n3-ln"
      },
      "source": [
        "14. Створіть цілочисленну змінну зі своїм щасливим або улюбленим числом. Напишіть код, який би автоматизовував наступну задачу.\n",
        "\n",
        "Якщо число парне, помножте його на 2 та виведіть результат на екран.\n",
        "\n",
        "Але якщо число непарне, помножте його на 3 та додайте 1 і виведіть на екран.\n"
      ]
    },
    {
      "cell_type": "code",
      "execution_count": null,
      "metadata": {
        "id": "g0cchKGl3-Gq"
      },
      "outputs": [],
      "source": [
        "# Ваше щасливе або улюблене число\n",
        "my_number = 61  # Замініть це числом за вашим вибором\n",
        "\n",
        "# Перевірка на парність чи непарність та виконання відповідної операції\n",
        "if my_number % 2 == 0:\n",
        "    result = my_number * 2\n",
        "    print(f\"{my_number} є парним числом. Результат множення на 2: {result}\")\n",
        "else:\n",
        "    result = my_number * 3 + 1\n",
        "    print(f\"{my_number} є непарним числом. Результат множення на 3 та додавання 1: {result}\")"
      ]
    },
    {
      "cell_type": "markdown",
      "metadata": {
        "id": "PRXLVdU26E5Z"
      },
      "source": [
        "15. Створіть рядок зі своїм імʼям латинкою. Напишіть код, який би автоматизовував наступну задачу.\n",
        "\n",
        "Якщо в імені є літера \"а\"\n",
        " або \"i\", Виведіть на екран повідомлення \"A or I is in the name\".\n",
        "\n",
        "\n",
        "\n",
        "Якщо в імені є літери \"o\" та \"n\", Виведіть на екран повідомлення \"O and N is in the name\".\n",
        "\n",
        "Також якщо в імені немає літери \"о\", але є \"n\", Виведіть на екран повідомлення \"Only N is in the name\".\n",
        "\n",
        "В решті випадків виведіть на екран повідомлення \"There is no N in the name, but there might be O\".\n",
        "\n",
        "Зверніть увагу, що, наприклад, для імені \"Antonina\" буде виведено два повідомлення."
      ]
    },
    {
      "cell_type": "code",
      "execution_count": null,
      "metadata": {
        "id": "bQlf4ZUh6Pdz"
      },
      "outputs": [],
      "source": [
        "# Ваше ім'я латинкою\n",
        "my_name = \"Dima\"  # Замініть це ім'ям за вашим вибором\n",
        "\n",
        "# Перевірка умов та виведення відповідних повідомлень\n",
        "if 'a' in my_name or 'i' in my_name:\n",
        "    print(\"A or I is in the name\")\n",
        "\n",
        "if 'o' in my_name and 'n' in my_name:\n",
        "    print(\"O and N is in the name\")\n",
        "elif 'o' not in my_name and 'n' in my_name:\n",
        "    print(\"Only N is in the name\")\n",
        "else:\n",
        "    print(\"There is no N in the name, but there might be O\")"
      ]
    },
    {
      "cell_type": "markdown",
      "metadata": {
        "id": "xOZP0hkx6cCr"
      },
      "source": [
        "# Вітаю! Ви велика(ий) молодець, що впоралась(вся). Похваліть себе та побалуйте чимось приємним. Я Вами пишаюся."
      ]
    }
  ],
  "metadata": {
    "colab": {
      "provenance": []
    },
    "kernelspec": {
      "display_name": "Python 3",
      "name": "python3"
    },
    "language_info": {
      "name": "python"
    }
  },
  "nbformat": 4,
  "nbformat_minor": 0
}
