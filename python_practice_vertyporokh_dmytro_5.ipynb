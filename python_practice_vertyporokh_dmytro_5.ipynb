{
  "cells": [
    {
      "cell_type": "markdown",
      "metadata": {
        "id": "awfU0tMnOlHH"
      },
      "source": [
        "# I. OOP"
      ]
    },
    {
      "cell_type": "markdown",
      "metadata": {
        "id": "T6r88C4sOwbI"
      },
      "source": [
        "1. (7б). Створіть клас Animal, додайте docstring, три атрибути, один з яких має значення за замовчуванням та два методи на свій розсуд."
      ]
    },
    {
      "cell_type": "code",
      "execution_count": null,
      "metadata": {
        "id": "fWXuCGV8Oqrn"
      },
      "outputs": [],
      "source": [
        "class Animal:\n",
        "    \"\"\"\n",
        "    Клас, що представляє тварину.\n",
        "\n",
        "    Attributes:\n",
        "        name (str): Ім'я тварини.\n",
        "        species (str): Вид тварини.\n",
        "        sound (str, optional): Звук, який виділяє тварина (за замовчуванням 'Unknown Sound').\n",
        "    \"\"\"\n",
        "\n",
        "    def __init__(self, name, species, sound='Unknown Sound'):\n",
        "        \"\"\"\n",
        "        Конструктор класу Animal.\n",
        "\n",
        "        Parameters:\n",
        "            name (str): Ім'я тварини.\n",
        "            species (str): Вид тварини.\n",
        "            sound (str, optional): Звук, який виділяє тварина (за замовчуванням 'Unknown Sound').\n",
        "        \"\"\"\n",
        "        self.name = name\n",
        "        self.species = species\n",
        "        self.sound = sound\n",
        "\n",
        "    def make_sound(self):\n",
        "        \"\"\"\n",
        "        Метод, що виводить звук, який виділяє тварина.\n",
        "        \"\"\"\n",
        "        print(f\"{self.name} ({self.species}) says: {self.sound}\")\n",
        "\n",
        "    def move(self, distance):\n",
        "        \"\"\"\n",
        "        Метод, що виводить повідомлення про переміщення тварини на вказану відстань.\n",
        "\n",
        "        Parameters:\n",
        "            distance (float): Відстань, на яку тварина переміщується.\n",
        "        \"\"\"\n",
        "        print(f\"{self.name} ({self.species}) is moving {distance} meters.\")\n",
        "\n",
        "# Створення екземпляру класу та виклик методів\n",
        "animal_instance = Animal(name=\"Fluffy\", species=\"Cat\", sound=\"Meow\")\n",
        "animal_instance.make_sound()\n",
        "animal_instance.move(6.0)"
      ]
    },
    {
      "cell_type": "markdown",
      "metadata": {
        "id": "CTu5Dt0_UKul"
      },
      "source": [
        "1.1. (5б). Створіть два обʼєкти цього класу. На одному обʼєкті отримайте значення його атрибуту, а на іншому викличте один з його методів."
      ]
    },
    {
      "cell_type": "code",
      "execution_count": null,
      "metadata": {
        "id": "nLQqAIlKUQRP"
      },
      "outputs": [],
      "source": [
        "# Створення двох об'єктів класу Animal\n",
        "animal1 = Animal(name=\"Woofik\", species=\"Dog\", sound=\"Woof\")\n",
        "animal2 = Animal(name=\"Meowka\", species=\"Cat\", sound=\"Meow\")\n",
        "\n",
        "# Отримання значення атрибуту одного об'єкту\n",
        "print(f\"{animal1.name} is a {animal1.species} that says: {animal1.sound}\")\n",
        "\n",
        "# Виклик методу на іншому об'єкті\n",
        "animal2.move(6.0)"
      ]
    },
    {
      "cell_type": "markdown",
      "metadata": {
        "id": "3KKpQYcWRNgj"
      },
      "source": [
        "2. (9б). Створіть клас, де атрибути мають різні рівні доступу. Спробуйте отримати їхні значення та опишіть результати."
      ]
    },
    {
      "cell_type": "code",
      "execution_count": null,
      "metadata": {
        "id": "PlMQmzciRM_D"
      },
      "outputs": [],
      "source": [
        "class MyClass:\n",
        "    def __init__(self):\n",
        "        # Атрибут зі звичайним доступом (public)\n",
        "        self.public_attribute = \"Public Value\"\n",
        "\n",
        "        # Атрибут із захищеним доступом (protected)\n",
        "        self._protected_attribute = \"Protected Value\"\n",
        "\n",
        "        # Атрибут із приватним доступом (private)\n",
        "        self.__private_attribute = \"Private Value\"\n",
        "\n",
        "# Створення екземпляру класу\n",
        "obj = MyClass()\n",
        "\n",
        "# Отримання значень атрибутів\n",
        "print(f\"Public attribute: {obj.public_attribute}\")\n",
        "\n",
        "# Спроба отримати значення атрибуту з захищеним доступом\n",
        "print(f\"Protected attribute: {obj._protected_attribute}\")\n",
        "\n",
        "# Спроба отримати значення атрибуту з приватним доступом (призведе до помилки)\n",
        "# print(f\"Private attribute: {obj.__private_attribute}\")\n",
        "# AttributeError: 'MyClass' object has no attribute '__private_attribute'\n",
        "\n",
        "# Звернення до атрибуту з приватним доступом за допомогою name mangling\n",
        "print(f\"Private attribute (name mangling): {obj._MyClass__private_attribute}\")"
      ]
    },
    {
      "cell_type": "markdown",
      "metadata": {
        "id": "iaoOLp4RRZyc"
      },
      "source": [
        "3. (8б). Як ви розумієте термін self? Для чого використовується метод __init __?"
      ]
    },
    {
      "cell_type": "markdown",
      "metadata": {
        "id": "-yuvBRjFRlz5"
      },
      "source": [
        "*self визначається як перший параметр у методах класу і вказує на сам екземпляр класу.__init__ - це метод, який викликається при створенні нового екземпляра класу.Його завдання - ініціалізувати атрибути об'єкта, задати початкові значення та виконати інші необхідні операції для підготовки об'єкта до використання.*"
      ]
    },
    {
      "cell_type": "markdown",
      "metadata": {
        "id": "nVectYeATZAi"
      },
      "source": [
        "4. (8б). Створіть клас Фігура без атрибутів, з методом get_area для отримання площі фігури, що повертає 0 та __add __, який приймає self та other в якості аргументів, а повертає суму площин фігур self та other."
      ]
    },
    {
      "cell_type": "code",
      "execution_count": null,
      "metadata": {
        "id": "EYvcpzHbRZLz"
      },
      "outputs": [],
      "source": [
        "class Figure:\n",
        "    def get_area(self):\n",
        "        \"\"\"\n",
        "        Метод отримання площі фігури.\n",
        "\n",
        "        Returns:\n",
        "            float: Площа фігури (за замовчуванням 0).\n",
        "        \"\"\"\n",
        "        return 0\n",
        "\n",
        "    def __add__(self, other):\n",
        "        \"\"\"\n",
        "        Метод додавання фігур.\n",
        "\n",
        "        Parameters:\n",
        "            other (Figure): Інша фігура.\n",
        "\n",
        "        Returns:\n",
        "            float: Сума площ фігур self та other.\n",
        "        \"\"\"\n",
        "        return self.get_area() + other.get_area()\n",
        "\n",
        "# Приклад використання\n",
        "figure1 = Figure()\n",
        "figure2 = Figure()\n",
        "\n",
        "area_sum = figure1 + figure2\n",
        "print(f\"Сума площ фігур: {area_sum}\")"
      ]
    },
    {
      "cell_type": "markdown",
      "metadata": {
        "id": "PheOkqlCg9SD"
      },
      "source": [
        "5. (11б). Створіть 2 дочірніх класи від Фігури: Трикутник та Коло, які мають атрибути, необхідні для розрахунку площин. Визначте метод get_area в кожному з них так, щоби вони розраховували площу в залежності від формули для кожного типу фігури. Створіть обʼєкт класу Трикутник та обʼєкт класу Коло. Виконайте операцію суми за допомогою оператора + між ними."
      ]
    },
    {
      "cell_type": "code",
      "execution_count": null,
      "metadata": {
        "id": "7Jo8-rqlhNSw"
      },
      "outputs": [],
      "source": [
        "import math\n",
        "\n",
        "class Figure:\n",
        "    def __init__(self):\n",
        "        pass\n",
        "\n",
        "    def get_area(self):\n",
        "        return 0\n",
        "\n",
        "    def __add__(self, other):\n",
        "        return self.get_area() + other.get_area()\n",
        "\n",
        "class Triangle(Figure):\n",
        "    def __init__(self, base, height):\n",
        "        \"\"\"\n",
        "        Конструктор класу Triangle.\n",
        "\n",
        "        Parameters:\n",
        "            base (float): Основа трикутника.\n",
        "            height (float): Висота трикутника.\n",
        "        \"\"\"\n",
        "        super().__init__()\n",
        "        self.base = base\n",
        "        self.height = height\n",
        "\n",
        "    def get_area(self):\n",
        "        return 0.5 * self.base * self.height\n",
        "\n",
        "class Circle(Figure):\n",
        "    def __init__(self, radius):\n",
        "        \"\"\"\n",
        "        Конструктор класу Circle.\n",
        "\n",
        "        Parameters:\n",
        "            radius (float): Радіус кола.\n",
        "        \"\"\"\n",
        "        super().__init__()\n",
        "        self.radius = radius\n",
        "\n",
        "    def get_area(self):\n",
        "        return math.pi * self.radius**2\n",
        "\n",
        "# Створення об'єктів\n",
        "triangle = Triangle(base=6, height=2)\n",
        "circle = Circle(radius=3)\n",
        "\n",
        "# Використання методів для розрахунку площ\n",
        "triangle_area = triangle.get_area()\n",
        "circle_area = circle.get_area()\n",
        "\n",
        "# Виконання операції суми площ за допомогою оператора +\n",
        "total_area = triangle + circle\n",
        "\n",
        "# Виведення результатів\n",
        "print(f\"Площа трикутника: {triangle_area}\")\n",
        "print(f\"Площа кола: {circle_area}\")\n",
        "print(f\"Сума площ трикутника та кола: {total_area}\")"
      ]
    },
    {
      "cell_type": "markdown",
      "metadata": {
        "id": "WxW51aGIhN2q"
      },
      "source": [
        "6. (7б). Продемонструйте різницю між isinstance та issubclass."
      ]
    },
    {
      "cell_type": "code",
      "execution_count": null,
      "metadata": {
        "id": "E-QybeYShdAu"
      },
      "outputs": [],
      "source": [
        "# Приклад з isinstance\n",
        "number = 6\n",
        "is_int = isinstance(number, int)\n",
        "\n",
        "if is_int:\n",
        "    print(\"number is an instance of int\")\n",
        "else:\n",
        "    print(\"number is not an instance of int\")\n"
      ]
    },
    {
      "cell_type": "markdown",
      "metadata": {},
      "source": [
        "*isinstance: Ця функція використовується для перевірки, чи об'єкт є екземпляром певного класу чи класу-представника конкретного типу.*"
      ]
    },
    {
      "cell_type": "code",
      "execution_count": null,
      "metadata": {},
      "outputs": [],
      "source": [
        "# Приклад з issubclass\n",
        "class Animal:\n",
        "    pass\n",
        "\n",
        "class Beaver(Animal):\n",
        "    pass\n",
        "\n",
        "is_dog_subclass = issubclass(Beaver, Animal)\n",
        "\n",
        "if is_dog_subclass:\n",
        "    print(\"Beaver is a subclass of Animal\")\n",
        "else:\n",
        "    print(\"Beaver is not a subclass of Animal\")"
      ]
    },
    {
      "cell_type": "markdown",
      "metadata": {},
      "source": [
        "*issubclass: Ця функція використовується для перевірки, чи один клас є підкласом іншого.*"
      ]
    },
    {
      "cell_type": "markdown",
      "metadata": {
        "id": "Mrup7UL3hfC3"
      },
      "source": [
        "7. (16б). Створіть клас BankAccount з приватними атрибутами balance та account_number.\n",
        "Реалізуйте методи поповнення та зняття коштів, забезпечивши належну інкапсуляцію. Підказка: використовуйте декоратори getter та setter."
      ]
    },
    {
      "cell_type": "code",
      "execution_count": null,
      "metadata": {
        "id": "Vi8gw9G6i37Y"
      },
      "outputs": [],
      "source": [
        "class BankAccount:\n",
        "    def __init__(self, account_number, initial_balance=0):\n",
        "        self._account_number = account_number  # приватний атрибут через _\n",
        "        self._balance = initial_balance  # приватний атрибут через _\n",
        "\n",
        "    @property\n",
        "    def balance(self):\n",
        "        return self._balance\n",
        "\n",
        "    @balance.setter\n",
        "    def balance(self, new_balance):\n",
        "        if new_balance < 0:\n",
        "            print(\"Error: Balance cannot be negative.\")\n",
        "        else:\n",
        "            self._balance = new_balance\n",
        "            print(f\"Balance updated: ${self._balance}\")\n",
        "\n",
        "    def deposit(self, amount):\n",
        "        if amount > 0:\n",
        "            self._balance += amount\n",
        "            print(f\"Deposited: ${amount}\")\n",
        "        else:\n",
        "            print(\"Error: Deposit amount must be greater than 0.\")\n",
        "\n",
        "    def withdraw(self, amount):\n",
        "        if 0 < amount <= self._balance:\n",
        "            self._balance -= amount\n",
        "            print(f\"Withdrawn: ${amount}\")\n",
        "        else:\n",
        "            print(\"Error: Insufficient funds or invalid withdrawal amount.\")\n",
        "\n",
        "# Приклад використання\n",
        "account = BankAccount(account_number=\"123456789\")\n",
        "print(\"Initial Balance:\", account.balance)\n",
        "\n",
        "account.deposit(1000)\n",
        "print(\"Current Balance:\", account.balance)\n",
        "\n",
        "account.withdraw(500)\n",
        "print(\"Updated Balance:\", account.balance)\n",
        "\n",
        "# Спроба встановити від'ємний баланс (викличе помилку)\n",
        "account.balance = -100"
      ]
    },
    {
      "cell_type": "markdown",
      "metadata": {
        "id": "q1mgZYuFjB_q"
      },
      "source": [
        "8. (16б). Створіть клас Library, який містить список об'єктів типу Book.\n",
        "Реалізуйте методи для додавання книги, видалення книги та відображення списку книг."
      ]
    },
    {
      "cell_type": "code",
      "execution_count": null,
      "metadata": {
        "id": "z1W8DINmjQQj"
      },
      "outputs": [],
      "source": [
        "class Book:\n",
        "    def __init__(self, title, author):\n",
        "        self.title = title\n",
        "        self.author = author\n",
        "\n",
        "    def __str__(self):\n",
        "        return f\"{self.title} by {self.author}\"\n",
        "\n",
        "class Library:\n",
        "    def __init__(self):\n",
        "        self.books = []\n",
        "\n",
        "    def add_book(self, book):\n",
        "        \"\"\"\n",
        "        Додає книгу до бібліотеки.\n",
        "\n",
        "        Parameters:\n",
        "            book (Book): Об'єкт книги для додавання.\n",
        "        \"\"\"\n",
        "        self.books.append(book)\n",
        "        print(f\"Book added: {book}\")\n",
        "\n",
        "    def remove_book(self, book):\n",
        "        \"\"\"\n",
        "        Видаляє книгу з бібліотеки.\n",
        "\n",
        "        Parameters:\n",
        "            book (Book): Об'єкт книги для видалення.\n",
        "        \"\"\"\n",
        "        if book in self.books:\n",
        "            self.books.remove(book)\n",
        "            print(f\"Book removed: {book}\")\n",
        "        else:\n",
        "            print(f\"Error: Book not found in the library.\")\n",
        "\n",
        "    def display_books(self):\n",
        "        \"\"\"Відображає список книг у бібліотеці.\"\"\"\n",
        "        print(\"Books in the library:\")\n",
        "        for book in self.books:\n",
        "            print(book)\n",
        "\n",
        "# Приклад використання\n",
        "library = Library()\n",
        "\n",
        "# Додавання книг до бібліотеки\n",
        "book1 = Book(\"I Have No Mouth, and I Must Scream\", \"Harlan Ellison\")\n",
        "book2 = Book(\"The Metamorphosis\", \"\tFranz Kafka\")\n",
        "\n",
        "library.add_book(book1)\n",
        "library.add_book(book2)\n",
        "\n",
        "# Відображення списку книг\n",
        "library.display_books()\n",
        "\n",
        "# Видалення однієї книги та відображення оновленого списку\n",
        "library.remove_book(book1)\n",
        "library.display_books()"
      ]
    },
    {
      "cell_type": "markdown",
      "metadata": {
        "id": "cCzctafPjwiZ"
      },
      "source": [
        "9. (13б). Створіть клас Person з атрибутами name та age.\n",
        "Створіть ще один клас Employee з такими атрибутами, як department та salary.\n",
        "Створіть клас Manager, який успадковує обидва класи Person та Employee. Продемонструйте використання множинної спадковості, створивши обʼєкт класу Manager та отримавши mro для цього класу."
      ]
    },
    {
      "cell_type": "code",
      "execution_count": null,
      "metadata": {
        "id": "tZQ8-tfPk1k5"
      },
      "outputs": [],
      "source": [
        "class Person:\n",
        "    def __init__(self, name, age):\n",
        "        self.name = name\n",
        "        self.age = age\n",
        "\n",
        "    def __str__(self):\n",
        "        return f\"Person: {self.name}, Age: {self.age}\"\n",
        "\n",
        "class Employee:\n",
        "    def __init__(self, department, salary):\n",
        "        self.department = department\n",
        "        self.salary = salary\n",
        "\n",
        "    def __str__(self):\n",
        "        return f\"Employee: Department: {self.department}, Salary: {self.salary}\"\n",
        "\n",
        "class Manager(Person, Employee):\n",
        "    def __init__(self, name, age, department, salary):\n",
        "        # Викликаємо конструктори батьківських класів\n",
        "        Person.__init__(self, name, age)\n",
        "        Employee.__init__(self, department, salary)\n",
        "\n",
        "    def __str__(self):\n",
        "        return f\"Manager: {self.name}, Age: {self.age}, Department: {self.department}, Salary: {self.salary}\"\n",
        "\n",
        "# Створення об'єкта класу Manager\n",
        "manager = Manager(name=\"Dmytro\", age=20, department=\"HR\", salary=60000)\n",
        "\n",
        "# Виведення інформації про об'єкт\n",
        "print(manager)\n",
        "\n",
        "# Виведення порядку методів розділених множинною спадковістю\n",
        "print(\"Method Resolution Order (MRO):\", Manager.mro())"
      ]
    },
    {
      "cell_type": "markdown",
      "metadata": {
        "id": "dzH9DdFTOxCC"
      },
      "source": [
        "# Вітаю! Ви велика(ий) молодець, що впоралась(вся). Похваліть себе та побалуйте чимось приємним. Я Вами пишаюся."
      ]
    }
  ],
  "metadata": {
    "colab": {
      "provenance": []
    },
    "kernelspec": {
      "display_name": "Python 3",
      "name": "python3"
    },
    "language_info": {
      "name": "python"
    }
  },
  "nbformat": 4,
  "nbformat_minor": 0
}
